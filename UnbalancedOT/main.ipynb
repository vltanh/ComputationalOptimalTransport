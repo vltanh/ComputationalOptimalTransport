{
 "cells": [
  {
   "cell_type": "code",
   "execution_count": 1,
   "metadata": {},
   "outputs": [],
   "source": [
    "import numpy as np\n",
    "import matplotlib.pyplot as plt\n",
    "\n",
    "from uot import UOT, EntRegUOT\n",
    "from uot import exact_uot, exact_entreg_uot\n",
    "from uot import calc_B, calc_f, calc_g\n",
    "from sinkhorn import calc_R, calc_U, sinkhorn_entreg_uot, sinkhorn\n",
    "from utils import norm_inf\n",
    "\n",
    "np.random.seed(3698)"
   ]
  },
  {
   "cell_type": "markdown",
   "metadata": {},
   "source": [
    "## Experiments"
   ]
  },
  {
   "cell_type": "markdown",
   "metadata": {},
   "source": [
    "### Varying epsilon (Synthetic Data)"
   ]
  },
  {
   "cell_type": "markdown",
   "metadata": {},
   "source": [
    "#### Preparation"
   ]
  },
  {
   "cell_type": "code",
   "execution_count": null,
   "metadata": {},
   "outputs": [],
   "source": [
    "# Dimension\n",
    "n = 10\n",
    "\n",
    "# Regularization\n",
    "tau = np.float64(5.0)\n",
    "\n",
    "# Mass normalization\n",
    "alpha = 2.0\n",
    "beta = 4.0\n",
    "\n",
    "# Number of eps\n",
    "neps = 20"
   ]
  },
  {
   "cell_type": "code",
   "execution_count": null,
   "metadata": {},
   "outputs": [],
   "source": [
    "np.random.seed(3698)\n",
    "\n",
    "# Cost matrix\n",
    "C = np.random.uniform(low=1.0, high=50.0, size=(n, n)).astype(np.float64)\n",
    "C = (C + C.T) / 2.0\n",
    "\n",
    "# Marginal vectors\n",
    "a = np.random.uniform(0.1, 1.0, size=n).astype(np.float64)\n",
    "b = np.random.uniform(0.1, 1.0, size=n).astype(np.float64)\n",
    "\n",
    "a = a / a.sum() * alpha\n",
    "b = b / b.sum() * beta"
   ]
  },
  {
   "cell_type": "markdown",
   "metadata": {},
   "source": [
    "#### Execution"
   ]
  },
  {
   "cell_type": "code",
   "execution_count": null,
   "metadata": {},
   "outputs": [],
   "source": [
    "# Original UOT problem\n",
    "uot_p = UOT(C, a, b, tau)\n",
    "\n",
    "# Optimal solution\n",
    "f_optimal, X_optimal = exact_uot(uot_p)\n",
    "\n",
    "print('Optimal:', f_optimal)"
   ]
  },
  {
   "cell_type": "code",
   "execution_count": null,
   "metadata": {},
   "outputs": [],
   "source": [
    "# Epsilons\n",
    "eps_arr = np.linspace(start=1.0, stop=0.05, num=neps).astype(np.float64)\n",
    "\n",
    "kfs, kcs = np.zeros((2, neps))\n",
    "\n",
    "for i, eps in enumerate(eps_arr):\n",
    "    # Entropic regularization parameter\n",
    "    U = calc_U(uot_p, eps)\n",
    "    eta = eps / U\n",
    "\n",
    "    # Convert to Entropic Regularized UOT\n",
    "    p = EntRegUOT(C, a, b, tau, eta)\n",
    "\n",
    "    # Sinkhorn\n",
    "    _, log = sinkhorn_entreg_uot(p, eps)\n",
    "\n",
    "    # Find kf\n",
    "    kf = log['k_stop']\n",
    "\n",
    "    # Find kc\n",
    "    f_approx = np.array([\n",
    "        calc_f(p, calc_B(p, u, v))\n",
    "        for u, v in zip(log['u'], log['v'])\n",
    "    ])\n",
    "    kc = np.where(f_approx - f_optimal > eps)[0][-1]\n",
    "\n",
    "    kfs[i] = kf\n",
    "    kcs[i] = kc + 2"
   ]
  },
  {
   "cell_type": "code",
   "execution_count": null,
   "metadata": {},
   "outputs": [],
   "source": [
    "fig, ax = plt.subplots(1, 2, figsize=(10, 5), dpi=100)\n",
    "\n",
    "ax[0].plot(eps_arr, np.log(kcs), label='\\log k_f')\n",
    "ax[0].plot(eps_arr, np.log(kfs), label='\\log k_c')\n",
    "ax[0].set_xlim(1.0 + 0.05, 0 - 0.05)\n",
    "\n",
    "ax[1].plot(eps_arr, kfs / kcs, label='\\log k_f')\n",
    "ax[1].set_xlim(1.0 + 0.05, 0 - 0.05)"
   ]
  },
  {
   "cell_type": "markdown",
   "metadata": {},
   "source": [
    "### Theory check (Synthetic data)"
   ]
  },
  {
   "cell_type": "markdown",
   "metadata": {},
   "source": [
    "#### Preparation"
   ]
  },
  {
   "cell_type": "code",
   "execution_count": 2,
   "metadata": {},
   "outputs": [],
   "source": [
    "# Dimension\n",
    "n = 100\n",
    "\n",
    "# Regularization\n",
    "tau = np.float64(1.0)\n",
    "eta = np.float64(0.05)\n",
    "\n",
    "# Number of Sinkhorn iterations\n",
    "niters = 500"
   ]
  },
  {
   "cell_type": "code",
   "execution_count": 3,
   "metadata": {},
   "outputs": [],
   "source": [
    "np.random.seed(3698)\n",
    "\n",
    "# Cost matrix\n",
    "C = np.random.uniform(low=1.0, high=100.0, size=(n, n)).astype(np.float64)\n",
    "C = (C + C.T) / 2.0\n",
    "\n",
    "# Marginal vectors\n",
    "a = np.random.uniform(0.1, 10.0, size=n).astype(np.float64)\n",
    "b = np.random.uniform(0.1, 10.0, size=n).astype(np.float64)"
   ]
  },
  {
   "cell_type": "markdown",
   "metadata": {},
   "source": [
    "UOT problem"
   ]
  },
  {
   "cell_type": "code",
   "execution_count": 4,
   "metadata": {},
   "outputs": [],
   "source": [
    "uot_p = UOT(C, a, b, tau)"
   ]
  },
  {
   "cell_type": "code",
   "execution_count": 5,
   "metadata": {},
   "outputs": [],
   "source": [
    "f_best, X_hat = exact_uot(uot_p)"
   ]
  },
  {
   "cell_type": "markdown",
   "metadata": {},
   "source": [
    "Entropic regularized UOT problem"
   ]
  },
  {
   "cell_type": "code",
   "execution_count": 6,
   "metadata": {},
   "outputs": [],
   "source": [
    "p = EntRegUOT(C, a, b, tau, eta)"
   ]
  },
  {
   "cell_type": "code",
   "execution_count": 7,
   "metadata": {},
   "outputs": [],
   "source": [
    "g_best, u_opt, v_opt = exact_entreg_uot(p)"
   ]
  },
  {
   "cell_type": "code",
   "execution_count": 8,
   "metadata": {},
   "outputs": [],
   "source": [
    "X_star = calc_B(p, u_opt, v_opt)\n",
    "a_star = X_star.sum(-1)\n",
    "b_star = X_star.sum(0)"
   ]
  },
  {
   "cell_type": "markdown",
   "metadata": {},
   "source": [
    "Solve with Sinkhorn iterations"
   ]
  },
  {
   "cell_type": "code",
   "execution_count": 9,
   "metadata": {},
   "outputs": [],
   "source": [
    "_, log = sinkhorn(p, niters - 1)"
   ]
  },
  {
   "cell_type": "markdown",
   "metadata": {},
   "source": [
    "#### Lemma 1\n",
    "\n",
    "$$\n",
    "\\frac{u^*}{\\tau} = \\log(a) - \\log(a^*) \\\\\n",
    "\\frac{v^*}{\\tau} = \\log(b) - \\log(b^*)\n",
    "$$"
   ]
  },
  {
   "cell_type": "code",
   "execution_count": 10,
   "metadata": {},
   "outputs": [
    {
     "name": "stdout",
     "output_type": "stream",
     "text": [
      "0.0014643020164619713\n"
     ]
    },
    {
     "data": {
      "image/png": "[encoded data removed]",
      "text/plain": [
       "<Figure size 432x288 with 1 Axes>"
      ]
     },
     "metadata": {
      "needs_background": "light"
     },
     "output_type": "display_data"
    }
   ],
   "source": [
    "print(norm_inf(u_opt / tau - np.log(a / a_star)))\n",
    "\n",
    "plt.plot(u_opt / tau - np.log(a / a_star))\n",
    "plt.show()"
   ]
  },
  {
   "cell_type": "code",
   "execution_count": 11,
   "metadata": {},
   "outputs": [
    {
     "name": "stdout",
     "output_type": "stream",
     "text": [
      "0.002263160043399992\n"
     ]
    },
    {
     "data": {
      "image/png": "[encoded data removed]",
      "text/plain": [
       "<Figure size 432x288 with 1 Axes>"
      ]
     },
     "metadata": {
      "needs_background": "light"
     },
     "output_type": "display_data"
    }
   ],
   "source": [
    "print(norm_inf(v_opt / tau - np.log(b / b_star)))\n",
    "\n",
    "plt.plot(v_opt / tau - np.log(b / b_star))\n",
    "plt.show()"
   ]
  },
  {
   "cell_type": "markdown",
   "metadata": {},
   "source": [
    "#### Lemma 2\n",
    "\n",
    "$$\n",
    "\\Big| \\log\\left( \\frac{a_i^*}{a_i^k} \\right) -  \\frac{u_i^* - u_i^k}{\\eta}\\Big| \\leq  \\max_{1 \\leq j \\leq n} \\frac{|v^*_j - v^{k}_j|}{\\eta}\n",
    "$$\n",
    "\n",
    "$$\n",
    "\\Big| \\log\\left( \\frac{b_j^*}{b_j^k} \\right) -  \\frac{v_j^* - v_j^k}{\\eta}\\Big| \\leq  \\max_{1 \\leq i \\leq n} \\frac{|u^*_i - u^{k}_i|}{\\eta}\n",
    "$$"
   ]
  },
  {
   "cell_type": "code",
   "execution_count": 12,
   "metadata": {},
   "outputs": [
    {
     "name": "stdout",
     "output_type": "stream",
     "text": [
      "-1.7763568394002505e-14\n"
     ]
    },
    {
     "data": {
      "image/png": "[encoded data removed]",
      "text/plain": [
       "<Figure size 864x576 with 1 Axes>"
      ]
     },
     "metadata": {
      "needs_background": "light"
     },
     "output_type": "display_data"
    }
   ],
   "source": [
    "lhs, rhs = np.zeros((2, niters))\n",
    "\n",
    "for k, (uk, vk) in enumerate(zip(log['u'], log['v'])):\n",
    "    X = calc_B(p, uk, vk)\n",
    "    ak = X.sum(-1)\n",
    "\n",
    "    l = norm_inf(np.log(a_star / ak) - (u_opt - uk) / eta)\n",
    "    r = norm_inf((v_opt - vk) / eta)\n",
    "\n",
    "    lhs[k], rhs[k] = l, r\n",
    "\n",
    "print(np.max(lhs - rhs))\n",
    "\n",
    "plt.figure(figsize=(12, 8))\n",
    "plt.plot(range(niters), lhs - rhs)\n",
    "plt.show()"
   ]
  },
  {
   "cell_type": "code",
   "execution_count": 13,
   "metadata": {},
   "outputs": [
    {
     "name": "stdout",
     "output_type": "stream",
     "text": [
      "2.3440450969136606e-16\n"
     ]
    },
    {
     "data": {
      "image/png": "[encoded data removed]",
      "text/plain": [
       "<Figure size 864x576 with 1 Axes>"
      ]
     },
     "metadata": {
      "needs_background": "light"
     },
     "output_type": "display_data"
    }
   ],
   "source": [
    "lhs, rhs = np.zeros((2, niters))\n",
    "\n",
    "for k, (uk, vk) in enumerate(zip(log['u'], log['v'])):\n",
    "    X = calc_B(p, uk, vk)\n",
    "    bk = X.sum(0)\n",
    "\n",
    "    l = norm_inf(np.log(b_star / bk) - (v_opt - vk) / eta)\n",
    "    r = norm_inf((u_opt - uk) / eta)\n",
    "\n",
    "    lhs[k], rhs[k] = l, r\n",
    "\n",
    "print(np.max(lhs - rhs))\n",
    "\n",
    "plt.figure(figsize=(12, 8))\n",
    "plt.plot(range(niters), lhs - rhs)\n",
    "plt.show()"
   ]
  },
  {
   "cell_type": "markdown",
   "metadata": {},
   "source": [
    "#### Lemma 3\n",
    "\n",
    "$$\n",
    "\\max \\{ \\|u^*\\|_{\\infty},\\|v^*\\|_\\infty \\} \\le \\tau R\n",
    "$$"
   ]
  },
  {
   "cell_type": "code",
   "execution_count": 14,
   "metadata": {},
   "outputs": [],
   "source": [
    "R = calc_R(p)"
   ]
  },
  {
   "cell_type": "code",
   "execution_count": 15,
   "metadata": {},
   "outputs": [
    {
     "name": "stdout",
     "output_type": "stream",
     "text": [
      "-1964.6588971439326\n"
     ]
    }
   ],
   "source": [
    "lhs = max(norm_inf(u_opt), norm_inf(v_opt))\n",
    "rhs = tau * R\n",
    "print(lhs - rhs)"
   ]
  },
  {
   "cell_type": "markdown",
   "metadata": {},
   "source": [
    "#### Lemma 4\n",
    "\n",
    "$$\n",
    "g(X^*) + (2 \\tau + \\eta) x^* = \\tau (\\alpha + \\beta) \\\\\n",
    "f(\\hat{X}) + 2 \\tau \\hat{x} = \\tau (\\alpha + \\beta)\n",
    "$$"
   ]
  },
  {
   "cell_type": "code",
   "execution_count": 16,
   "metadata": {},
   "outputs": [],
   "source": [
    "alpha, beta = a.sum(), b.sum()"
   ]
  },
  {
   "cell_type": "code",
   "execution_count": 17,
   "metadata": {},
   "outputs": [
    {
     "data": {
      "text/plain": [
       "937.9720594999625"
      ]
     },
     "execution_count": 17,
     "metadata": {},
     "output_type": "execute_result"
    }
   ],
   "source": [
    "calc_g(p, u_opt, v_opt)"
   ]
  },
  {
   "cell_type": "code",
   "execution_count": 21,
   "metadata": {},
   "outputs": [
    {
     "name": "stdout",
     "output_type": "stream",
     "text": [
      "-0.00015324840353514446\n",
      "5.153232859811396e-05\n"
     ]
    }
   ],
   "source": [
    "lhs1 = calc_g(p, u_opt, v_opt) + (2 * tau + eta) * np.sum(X_star)\n",
    "lhs2 = f_best + 2 * tau * np.sum(X_hat)\n",
    "rhs = tau * (alpha + beta)\n",
    "print(lhs1 - rhs)\n",
    "print(lhs2 - rhs)"
   ]
  },
  {
   "cell_type": "markdown",
   "metadata": {},
   "source": [
    "#### Theorem 1\n",
    "\n",
    "$$\n",
    "\\max \\{ \\| u^{k} -  u^*\\|_\\infty, \\| v^{k} -  v^*\\|_\\infty \\} \\le \\Big( \\frac{\\tau}{\\tau + \\eta} \\Big)^k \\times \\tau \\times R\n",
    "$$"
   ]
  },
  {
   "cell_type": "code",
   "execution_count": 19,
   "metadata": {},
   "outputs": [],
   "source": [
    "R = calc_R(p)"
   ]
  },
  {
   "cell_type": "code",
   "execution_count": 20,
   "metadata": {},
   "outputs": [
    {
     "name": "stdout",
     "output_type": "stream",
     "text": [
      "0.00010433620048765733\n"
     ]
    },
    {
     "data": {
      "image/png": "[encoded data removed]",
      "text/plain": [
       "<Figure size 864x576 with 1 Axes>"
      ]
     },
     "metadata": {
      "needs_background": "light"
     },
     "output_type": "display_data"
    }
   ],
   "source": [
    "lhs, rhs = np.zeros((2, niters))\n",
    "\n",
    "for k, (uk, vk) in enumerate(zip(log['u'], log['v'])):\n",
    "    X = calc_B(p, uk, vk)\n",
    "    bk = X.sum(0)\n",
    "\n",
    "    l = max(norm_inf(uk - u_opt), norm_inf(vk - v_opt))\n",
    "    r = (tau / (tau + eta)) ** k * tau * R\n",
    "\n",
    "    lhs[k], rhs[k] = l, r\n",
    "\n",
    "print(np.max(lhs - rhs))\n",
    "\n",
    "plt.figure(figsize=(12, 8))\n",
    "plt.plot(range(niters), lhs - rhs)\n",
    "plt.show()"
   ]
  }
 ],
 "metadata": {
  "interpreter": {
   "hash": "edbfc91850c9a702c2e4fa4067708a4a71752464744eb5c3077daa3b368f3f52"
  },
  "kernelspec": {
   "display_name": "Python 3.9.7 64-bit ('ot': conda)",
   "language": "python",
   "name": "python3"
  },
  "language_info": {
   "codemirror_mode": {
    "name": "ipython",
    "version": 3
   },
   "file_extension": ".py",
   "mimetype": "text/x-python",
   "name": "python",
   "nbconvert_exporter": "python",
   "pygments_lexer": "ipython3",
   "version": "3.9.7"
  },
  "orig_nbformat": 4
 },
 "nbformat": 4,
 "nbformat_minor": 2
}

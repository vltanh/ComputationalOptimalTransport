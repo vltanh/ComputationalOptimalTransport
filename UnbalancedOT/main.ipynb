{
 "cells": [
  {
   "cell_type": "code",
   "execution_count": 1,
   "metadata": {},
   "outputs": [],
   "source": [
    "from dataclasses import dataclass\n",
    "\n",
    "import numpy as np\n",
    "import cvxpy as cp\n",
    "import matplotlib.pyplot as plt\n",
    "\n",
    "np.random.seed(3698)"
   ]
  },
  {
   "cell_type": "code",
   "execution_count": 2,
   "metadata": {},
   "outputs": [],
   "source": [
    "@dataclass()\n",
    "class UOT:\n",
    "    C: np.ndarray\n",
    "    a: np.ndarray\n",
    "    b: np.ndarray\n",
    "    tau: float\n",
    "\n",
    "@dataclass()\n",
    "class EntRegUOT(UOT):\n",
    "    eta: float"
   ]
  },
  {
   "cell_type": "code",
   "execution_count": 3,
   "metadata": {},
   "outputs": [],
   "source": [
    "def norm_inf(x):\n",
    "    return np.amax(np.abs(x))\n",
    "\n",
    "def calc_entropy(P):\n",
    "    return -np.sum(P * np.log(P) - P)\n",
    "\n",
    "def calc_KL(P, Q):\n",
    "    return np.sum(P * np.log(P / Q) - P + Q)\n",
    "\n",
    "def calc_f(p, X):\n",
    "    return (p.C * X).sum() \\\n",
    "        + p.tau * calc_KL(X.sum(-1), p.a) \\\n",
    "        + p.tau * calc_KL(X.sum(0), p.b)"
   ]
  },
  {
   "cell_type": "code",
   "execution_count": 4,
   "metadata": {},
   "outputs": [],
   "source": [
    "def exact_uot(p):\n",
    "    n = p.C.shape[0]\n",
    "    X = cp.Variable((n, n), nonneg=True)\n",
    "\n",
    "    row_sums = cp.sum(X, axis=1)\n",
    "    col_sums = cp.sum(X, axis=0)\n",
    "\n",
    "    obj = cp.sum(cp.multiply(X, C))\n",
    "\n",
    "    obj -= p.tau * cp.sum(cp.entr(row_sums))\n",
    "    obj -= p.tau * cp.sum(cp.entr(col_sums))\n",
    "\n",
    "    obj -= p.tau * cp.sum(cp.multiply(row_sums, cp.log(p.a)))\n",
    "    obj -= p.tau * cp.sum(cp.multiply(col_sums, cp.log(p.b)))\n",
    "\n",
    "    obj -= 2 * p.tau * cp.sum(X)\n",
    "    obj += p.tau * cp.sum(p.a + p.b)\n",
    "\n",
    "    prob = cp.Problem(cp.Minimize(obj))\n",
    "    prob.solve()\n",
    "\n",
    "    return prob.value, X.value"
   ]
  },
  {
   "cell_type": "code",
   "execution_count": 31,
   "metadata": {},
   "outputs": [],
   "source": [
    "def calc_R(p: EntRegUOT) -> float:\n",
    "    n = p.C.shape[0]\n",
    "    R = max(norm_inf(np.log(p.a)), norm_inf(np.log(p.b))) + max(np.log(n), norm_inf(p.C) / p.eta - np.log(n))\n",
    "    return R\n",
    "\n",
    "def calc_U(p: UOT, eps: float) -> float:\n",
    "    n = p.C.shape[0]\n",
    "    S = 0.5 * (alpha + beta) + 0.5 + 0.25 / np.log(n)\n",
    "    T = 0.5 * (alpha + beta) * (np.log(0.5 * (alpha + beta)) + 2 * np.log(n) - 1) + np.log(n) + 2.5\n",
    "    U = max(S + T, 2 * eps, 4 * eps * np.log(n) / p.tau, 4 * eps * (alpha + beta) * np.log(n) / p.tau)\n",
    "    return U\n",
    "\n",
    "def calc_k_stop(p: EntRegUOT, eps: float) -> int:\n",
    "    R = calc_R(p)\n",
    "    U = calc_U(p, eps)\n",
    "    k_float = (p.tau * U / eps + 1) * (np.log(8 * p.eta * R) + np.log(p.tau * (p.tau + 1)) + 3 * np.log(U / eps))\n",
    "    return int(k_float)\n",
    "\n",
    "def calc_B(p: EntRegUOT, \n",
    "           u: np.ndarray,\n",
    "           v: np.ndarray) -> np.ndarray:\n",
    "    return np.exp((u[:, np.newaxis] + v[np.newaxis, :] - p.C) / p.eta)\n",
    "    \n",
    "\n",
    "def sinkhorn_entreg_uot(p: EntRegUOT, \n",
    "                        eps: float) -> np.ndarray:\n",
    "    log = {'u': [], 'v': []}\n",
    "\n",
    "    # Find problem dimension\n",
    "    n = p.C.shape[0]\n",
    "\n",
    "    # Initialize\n",
    "    u = np.zeros(n)\n",
    "    v = np.zeros(n)\n",
    "\n",
    "    # Find stopping condition\n",
    "    k_stop = calc_k_stop(p, eps)\n",
    "    log['k_stop'] = k_stop\n",
    "\n",
    "    # Loop\n",
    "    scale = p.eta * p.tau / (p.eta + p.tau)\n",
    "    for k in range(k_stop + 1):\n",
    "        X = calc_B(p, u, v)\n",
    "\n",
    "        # Update\n",
    "        if k % 2 == 0:\n",
    "            ak = X.sum(-1)\n",
    "            u = (u / p.eta + np.log(p.a / ak)) * scale\n",
    "        else:\n",
    "            bk = X.sum(0)\n",
    "            v = (v / p.eta + np.log(p.b / bk)) * scale\n",
    "\n",
    "        log['u'].append(u)\n",
    "        log['v'].append(v)\n",
    "    \n",
    "    return calc_B(p, u, v), log"
   ]
  },
  {
   "cell_type": "markdown",
   "metadata": {},
   "source": [
    "## Experiments"
   ]
  },
  {
   "cell_type": "markdown",
   "metadata": {},
   "source": [
    "### Synthetic data"
   ]
  },
  {
   "cell_type": "markdown",
   "metadata": {},
   "source": [
    "#### Configuration"
   ]
  },
  {
   "cell_type": "code",
   "execution_count": 6,
   "metadata": {},
   "outputs": [],
   "source": [
    "# Dimension\n",
    "n = 10\n",
    "\n",
    "# Regularization\n",
    "tau = 5.0\n",
    "\n",
    "# Mass normalization\n",
    "alpha = 2.0\n",
    "beta = 4.0\n",
    "\n",
    "# Number of eps\n",
    "neps = 20\n"
   ]
  },
  {
   "cell_type": "markdown",
   "metadata": {},
   "source": [
    "#### Generation"
   ]
  },
  {
   "cell_type": "code",
   "execution_count": 47,
   "metadata": {},
   "outputs": [],
   "source": [
    "np.random.seed(3698)\n",
    "\n",
    "# Cost matrix\n",
    "C = np.random.uniform(low=1.0, high=50.0, size=(n, n)).astype(np.float128)\n",
    "C = (C + C.T) / 2.0\n",
    "\n",
    "# Marginal vectors\n",
    "a = np.random.uniform(0.1, 1.0, size=n).astype(np.float128)\n",
    "b = np.random.uniform(0.1, 1.0, size=n).astype(np.float128)\n",
    "\n",
    "a = a / a.sum() * alpha\n",
    "b = b / b.sum() * beta"
   ]
  },
  {
   "cell_type": "markdown",
   "metadata": {},
   "source": [
    "#### Scenarios"
   ]
  },
  {
   "cell_type": "markdown",
   "metadata": {},
   "source": [
    "##### Different accuracy epsilon"
   ]
  },
  {
   "cell_type": "code",
   "execution_count": 48,
   "metadata": {},
   "outputs": [
    {
     "name": "stdout",
     "output_type": "stream",
     "text": [
      "Optimal: 20.904673681190204\n"
     ]
    }
   ],
   "source": [
    "# Original UOT problem\n",
    "uot_p = UOT(C, a, b, tau)\n",
    "\n",
    "# Optimal solution\n",
    "f_optimal, X_optimal = exact_uot(uot_p)\n",
    "\n",
    "print('Optimal:', f_optimal)"
   ]
  },
  {
   "cell_type": "code",
   "execution_count": 65,
   "metadata": {},
   "outputs": [],
   "source": [
    "# Epsilons\n",
    "eps_arr = np.linspace(start=1, stop=0.05, num=neps).astype(np.float128)\n",
    "\n",
    "kfs, kcs = np.zeros((2, neps))\n",
    "\n",
    "for i, eps in enumerate(eps_arr):\n",
    "    # Entropic regularization parameter\n",
    "    U = calc_U(uot_p, eps)\n",
    "    eta = eps / U\n",
    "\n",
    "    # Convert to Entropic Regularized UOT\n",
    "    p = EntRegUOT(C, a, b, tau, eta)\n",
    "\n",
    "    # Sinkhorn\n",
    "    _, log = sinkhorn_entreg_uot(p, eps)\n",
    "\n",
    "    # Find kf\n",
    "    kf = log['k_stop']\n",
    "\n",
    "    # Find kc\n",
    "    f_approx = np.array([\n",
    "        calc_f(p, calc_B(p, u, v)) \n",
    "        for u, v in zip(log['u'], log['v'])\n",
    "    ])\n",
    "    kc = np.where(f_approx - f_optimal > eps)[0][-1]\n",
    "\n",
    "    kfs[i] = kf\n",
    "    kcs[i] = kc + 2"
   ]
  },
  {
   "cell_type": "code",
   "execution_count": 66,
   "metadata": {},
   "outputs": [
    {
     "data": {
      "text/plain": [
       "[<matplotlib.lines.Line2D at 0x7f30ac1dc460>]"
      ]
     },
     "execution_count": 66,
     "metadata": {},
     "output_type": "execute_result"
    },
    {
     "data": {
      "image/png": "[encoded data removed]",
      "text/plain": [
       "<Figure size 1000x500 with 2 Axes>"
      ]
     },
     "metadata": {
      "needs_background": "light"
     },
     "output_type": "display_data"
    }
   ],
   "source": [
    "fig, ax = plt.subplots(1, 2, figsize=(10, 5), dpi=100)\n",
    "\n",
    "ax[0].plot(eps_arr, np.log(kcs), label='\\log k_f')\n",
    "ax[0].plot(eps_arr, np.log(kfs), label='\\log k_c')\n",
    "\n",
    "ax[1].plot(eps_arr, kfs / kcs, label='\\log k_f')"
   ]
  }
 ],
 "metadata": {
  "interpreter": {
   "hash": "edbfc91850c9a702c2e4fa4067708a4a71752464744eb5c3077daa3b368f3f52"
  },
  "kernelspec": {
   "display_name": "Python 3.9.7 64-bit ('ot': conda)",
   "language": "python",
   "name": "python3"
  },
  "language_info": {
   "codemirror_mode": {
    "name": "ipython",
    "version": 3
   },
   "file_extension": ".py",
   "mimetype": "text/x-python",
   "name": "python",
   "nbconvert_exporter": "python",
   "pygments_lexer": "ipython3",
   "version": "3.9.7"
  },
  "orig_nbformat": 4
 },
 "nbformat": 4,
 "nbformat_minor": 2
}

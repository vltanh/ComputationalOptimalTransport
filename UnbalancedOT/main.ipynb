{
 "cells": [
  {
   "cell_type": "code",
   "execution_count": 89,
   "metadata": {},
   "outputs": [],
   "source": [
    "from dataclasses import dataclass\n",
    "from typing import Union\n",
    "\n",
    "import numpy as np\n",
    "import cvxpy as cp\n",
    "import matplotlib.pyplot as plt\n",
    "\n",
    "np.random.seed(3698)"
   ]
  },
  {
   "cell_type": "code",
   "execution_count": 90,
   "metadata": {},
   "outputs": [],
   "source": [
    "@dataclass()\n",
    "class UOT:\n",
    "    C: np.ndarray\n",
    "    a: np.ndarray\n",
    "    b: np.ndarray\n",
    "    tau: float\n",
    "\n",
    "@dataclass()\n",
    "class EntRegUOT(UOT):\n",
    "    eta: float"
   ]
  },
  {
   "cell_type": "code",
   "execution_count": 91,
   "metadata": {},
   "outputs": [],
   "source": [
    "def calc_R(p: EntRegUOT) -> float:\n",
    "    n = p.C.shape[0]\n",
    "    R = max(np.max(np.log(p.a)), np.max(np.log(p.b))) + max(np.log(n), np.max(np.abs(p.C)) / p.eta - np.log(n))\n",
    "    return R\n",
    "\n",
    "def calc_U(p: UOT, \n",
    "           eps: np.float128) -> float:\n",
    "    n = p.C.shape[0]\n",
    "    S = 0.5 * (alpha + beta) + 0.5 + 0.25 / np.log(n)\n",
    "    T = 0.5 * (alpha + beta) * (np.log(0.5 * (alpha + beta)) + 2 * np.log(n) - 1) + np.log(n) + 2.5\n",
    "    U = max(S + T, 2 * eps, 4 * eps * np.log(n) / p.tau, 4 * eps * (alpha + beta) * np.log(n) / p.tau)\n",
    "    return U\n",
    "\n",
    "def calc_k_stop(p: EntRegUOT, \n",
    "                eps: np.float128) -> int:\n",
    "    R = calc_R(p)\n",
    "    U = calc_U(p, eps)\n",
    "    k_float = (p.tau * U + 1) * (np.log(8 * p.eta * R) + np.log(p.tau * (p.tau + 1)) + 3 * np.log(U / eps))\n",
    "    return int(k_float)\n",
    "\n",
    "def calc_B(p: EntRegUOT, \n",
    "           u: np.float128,\n",
    "           v: np.float128) -> np.ndarray:\n",
    "    return np.diag(np.exp(u / p.eta)) * np.exp(- p.C / p.eta) * np.diag(np.exp(v / p.eta))\n",
    "    \n",
    "\n",
    "def sinkhorn_approx_entreg_uot(p: EntRegUOT, \n",
    "                               eps: float) -> np.ndarray:\n",
    "    # Find problem dimension\n",
    "    n = p.C.shape[0]\n",
    "\n",
    "    # Initialize\n",
    "    u = np.zeros(n)\n",
    "    v = np.zeros(n)\n",
    "\n",
    "    # Find stopping condition\n",
    "    k_stop = calc_k_stop(p, eps)\n",
    "\n",
    "    # Loop\n",
    "    scale = p.eta * p.tau / (p.eta + p.tau)\n",
    "    for k in range(k_stop + 1):\n",
    "        # \n",
    "        X = calc_B(p, u, v)\n",
    "\n",
    "        # Update\n",
    "        if k % 2 == 0:\n",
    "            ak = X.sum(-1)\n",
    "            u = (u / p.eta + np.log(p.a) - np.log(ak)) * scale\n",
    "        else:\n",
    "            bk = X.sum(0)\n",
    "            v = (v / p.eta + np.log(p.b / bk)) * scale\n",
    "    \n",
    "    # Calculate and return\n",
    "    return calc_B(p, u, v)"
   ]
  },
  {
   "cell_type": "markdown",
   "metadata": {},
   "source": [
    "### Configuration"
   ]
  },
  {
   "cell_type": "code",
   "execution_count": 92,
   "metadata": {},
   "outputs": [],
   "source": [
    "# Dimension\n",
    "n = 10\n",
    "\n",
    "# Regularization\n",
    "tau = 5.0\n",
    "\n",
    "# Mass normalization\n",
    "alpha = 2.0\n",
    "beta = 4.0\n",
    "\n",
    "# Number of eps\n",
    "neps = 20\n"
   ]
  },
  {
   "cell_type": "markdown",
   "metadata": {},
   "source": [
    "### Generation"
   ]
  },
  {
   "cell_type": "code",
   "execution_count": 95,
   "metadata": {},
   "outputs": [],
   "source": [
    "np.random.seed(3698)\n",
    "\n",
    "# Cost matrix\n",
    "C = np.random.uniform(low=1.0, high=50.0, size=(n, n)).astype(np.float128)\n",
    "C = (C + C.T) / 2.0\n",
    "\n",
    "# Marginal vectors\n",
    "a = np.random.rand(n).astype(np.float128)\n",
    "b = np.random.rand(n).astype(np.float128)\n",
    "\n",
    "a = a / a.sum() * alpha\n",
    "b = b / b.sum() * beta\n",
    "\n",
    "# Epsilons\n",
    "eps_arr = np.logspace(start=0, stop=-1, num=neps).astype(np.float128)"
   ]
  },
  {
   "cell_type": "code",
   "execution_count": 96,
   "metadata": {},
   "outputs": [
    {
     "name": "stdout",
     "output_type": "stream",
     "text": [
      "0.044400032300922804798\n",
      "0.03933251410852248201\n",
      "0.034843368032076103356\n"
     ]
    },
    {
     "name": "stderr",
     "output_type": "stream",
     "text": [
      "/tmp/ipykernel_57536/293341791.py:24: RuntimeWarning: invalid value encountered in negative\n",
      "  return np.diag(np.exp(u / p.eta)) * np.exp(- p.C / p.eta) * np.diag(np.exp(v / p.eta))\n",
      "/tmp/ipykernel_57536/293341791.py:24: RuntimeWarning: invalid value encountered in true_divide\n",
      "  return np.diag(np.exp(u / p.eta)) * np.exp(- p.C / p.eta) * np.diag(np.exp(v / p.eta))\n",
      "/tmp/ipykernel_57536/293341791.py:24: RuntimeWarning: invalid value encountered in exp\n",
      "  return np.diag(np.exp(u / p.eta)) * np.exp(- p.C / p.eta) * np.diag(np.exp(v / p.eta))\n",
      "/tmp/ipykernel_57536/293341791.py:24: RuntimeWarning: invalid value encountered in multiply\n",
      "  return np.diag(np.exp(u / p.eta)) * np.exp(- p.C / p.eta) * np.diag(np.exp(v / p.eta))\n",
      "/home/vltanh/miniconda3/envs/ot/lib/python3.9/site-packages/numpy/core/_methods.py:48: RuntimeWarning: invalid value encountered in reduce\n",
      "  return umr_sum(a, axis, dtype, out, keepdims, initial, where)\n",
      "/tmp/ipykernel_57536/293341791.py:51: RuntimeWarning: invalid value encountered in log\n",
      "  v = (v / p.eta + np.log(p.b / bk)) * scale\n",
      "/tmp/ipykernel_57536/293341791.py:51: RuntimeWarning: divide by zero encountered in true_divide\n",
      "  v = (v / p.eta + np.log(p.b / bk)) * scale\n"
     ]
    },
    {
     "name": "stdout",
     "output_type": "stream",
     "text": [
      "0.030866582605652533494\n",
      "0.027343680463797096624\n",
      "0.0242228584504628126\n",
      "0.021458225870069239871\n",
      "0.019009129679412841002\n",
      "0.016839556697590495855\n",
      "0.01491760404362310334\n",
      "0.01321501001473287017\n",
      "0.011706738506988505137\n",
      "0.010370610867356031119\n",
      "0.009186979763656611769\n",
      "0.008138440276792860759\n",
      "0.0072095739669466349547\n",
      "0.006386722150323103059\n",
      "0.005657785052547709833\n",
      "0.005012043885330579787\n",
      "0.004440003230092280726\n"
     ]
    }
   ],
   "source": [
    "for eps in eps_arr:\n",
    "    # Entropic regularization parameter\n",
    "    uot_p = UOT(C, a, b, tau)\n",
    "    U = calc_U(uot_p, eps)\n",
    "    eta = eps / U\n",
    "    print(eta)\n",
    "\n",
    "    # Convert to Entropic Regularized UOT\n",
    "    p = EntRegUOT(C, a, b, tau, eta)\n",
    "\n",
    "    # Sinkhorn\n",
    "    sinkhorn_approx_entreg_uot(p, eps)"
   ]
  }
 ],
 "metadata": {
  "interpreter": {
   "hash": "edbfc91850c9a702c2e4fa4067708a4a71752464744eb5c3077daa3b368f3f52"
  },
  "kernelspec": {
   "display_name": "Python 3.9.7 64-bit ('ot': conda)",
   "language": "python",
   "name": "python3"
  },
  "language_info": {
   "codemirror_mode": {
    "name": "ipython",
    "version": 3
   },
   "file_extension": ".py",
   "mimetype": "text/x-python",
   "name": "python",
   "nbconvert_exporter": "python",
   "pygments_lexer": "ipython3",
   "version": "3.9.7"
  },
  "orig_nbformat": 4
 },
 "nbformat": 4,
 "nbformat_minor": 2
}

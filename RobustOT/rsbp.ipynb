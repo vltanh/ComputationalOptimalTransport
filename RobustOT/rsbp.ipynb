{
 "cells": [
  {
   "cell_type": "code",
   "execution_count": 1,
   "metadata": {},
   "outputs": [],
   "source": [
    "import numpy as np\n",
    "import matplotlib.pyplot as plt\n",
    "\n",
    "from rsbp import RSBP, EntropicRSBP\n",
    "from rsbp import exact_rsbp, exact_entreg_rsbp\n",
    "from rsbp import calc_B, calc_f_rsbp, calc_g_rsbp\n",
    "from sinkhorn_rsbp import calc_U\n",
    "from utils import norm_inf\n",
    "\n",
    "import time"
   ]
  },
  {
   "cell_type": "code",
   "execution_count": 2,
   "metadata": {},
   "outputs": [],
   "source": [
    "# Dimension\n",
    "n = 10\n",
    "m = 2\n",
    "\n",
    "# Regularization\n",
    "tau = np.float64(1.0)"
   ]
  },
  {
   "cell_type": "code",
   "execution_count": 3,
   "metadata": {},
   "outputs": [],
   "source": [
    "np.random.seed(3698)\n",
    "\n",
    "# Cost matrix\n",
    "C = np.random.uniform(low=0.01, high=0.1, size=(m, n, n)).astype(np.float64)\n",
    "# C = (C + C.T) / 2.0\n",
    "\n",
    "# Marginal vectors\n",
    "p = np.random.rand(m, n).astype(np.float64)\n",
    "p = p / p.sum(1, keepdims=True)\n",
    "\n",
    "# weight\n",
    "w = np.random.rand(m).astype(np.float64)\n",
    "w = w / w.sum()"
   ]
  },
  {
   "cell_type": "markdown",
   "metadata": {},
   "source": [
    "# Theory checking"
   ]
  },
  {
   "cell_type": "code",
   "execution_count": 13,
   "metadata": {},
   "outputs": [
    {
     "name": "stdout",
     "output_type": "stream",
     "text": [
      "Optimal: 0.019808113478932632\n"
     ]
    }
   ],
   "source": [
    "# Original UOT problem\n",
    "rsbp = RSBP(C, p, w, tau)\n",
    "\n",
    "# Optimal solution\n",
    "_, X_hat = exact_rsbp(rsbp)\n",
    "\n",
    "print('Optimal:', calc_f_rsbp(rsbp, X_hat))"
   ]
  },
  {
   "cell_type": "code",
   "execution_count": 14,
   "metadata": {},
   "outputs": [],
   "source": [
    "eps = 0.01\n",
    "\n",
    "# Entropic regularization parameter\n",
    "U = calc_U(rsbp, eps)\n",
    "eta = eps / U\n",
    "\n",
    "# Convert to Entropic Regularized UOT\n",
    "ersbp = EntropicRSBP(C, p, w, tau, eta)"
   ]
  },
  {
   "cell_type": "code",
   "execution_count": 15,
   "metadata": {},
   "outputs": [
    {
     "name": "stdout",
     "output_type": "stream",
     "text": [
      "Optimal: 0.01975416166417018 0.014712280538882197\n"
     ]
    }
   ],
   "source": [
    "_, u_star, v_star = exact_entreg_rsbp(ersbp)\n",
    "X_star = calc_B(ersbp, u_star, v_star)\n",
    "print('Optimal:', calc_f_rsbp(rsbp, X_star), calc_g_rsbp(ersbp, X_star))"
   ]
  },
  {
   "cell_type": "code",
   "execution_count": 17,
   "metadata": {},
   "outputs": [],
   "source": [
    "f_optimal = calc_f_rsbp(rsbp, X_hat)"
   ]
  },
  {
   "cell_type": "code",
   "execution_count": null,
   "metadata": {},
   "outputs": [],
   "source": [
    "# print(f'Epsilon:', eps)\n",
    "# start = time.time()\n",
    "\n",
    "# # Sinkhorn\n",
    "# _, log = robust_semisinkhorn_eps(ersot, f_optimal, eps, \n",
    "#                                     patience=1000, verbose=True)\n",
    "\n",
    "# print('Time elapsed:', time.time() - start)"
   ]
  },
  {
   "cell_type": "code",
   "execution_count": null,
   "metadata": {},
   "outputs": [],
   "source": [
    "# plt.plot(log['f'][1:])\n",
    "# plt.axhline(f_optimal, color='red')\n",
    "# plt.show()"
   ]
  },
  {
   "cell_type": "code",
   "execution_count": null,
   "metadata": {},
   "outputs": [],
   "source": [
    "# y = []\n",
    "\n",
    "# for uk, vk in zip(log['u'], log['v']):\n",
    "#     Xk = calc_B(ersot, uk, vk)\n",
    "#     # y.append(norm_inf(Xk - X_hat))\n",
    "#     y.append(calc_g_rsot(ersot, Xk))\n",
    "\n",
    "# plt.plot(y)"
   ]
  }
 ],
 "metadata": {
  "interpreter": {
   "hash": "edbfc91850c9a702c2e4fa4067708a4a71752464744eb5c3077daa3b368f3f52"
  },
  "kernelspec": {
   "display_name": "Python 3.9.7 64-bit ('ot': conda)",
   "language": "python",
   "name": "python3"
  },
  "language_info": {
   "codemirror_mode": {
    "name": "ipython",
    "version": 3
   },
   "file_extension": ".py",
   "mimetype": "text/x-python",
   "name": "python",
   "nbconvert_exporter": "python",
   "pygments_lexer": "ipython3",
   "version": "3.9.7"
  },
  "orig_nbformat": 4
 },
 "nbformat": 4,
 "nbformat_minor": 2
}

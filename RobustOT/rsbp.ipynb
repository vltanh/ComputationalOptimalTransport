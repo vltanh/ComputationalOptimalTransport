{
 "cells": [
  {
   "cell_type": "code",
   "execution_count": 1,
   "metadata": {},
   "outputs": [],
   "source": [
    "import numpy as np\n",
    "import matplotlib.pyplot as plt\n",
    "\n",
    "from rsbp import RSBP, EntropicRSBP\n",
    "from rsbp import exact_rsbp, exact_entreg_rsbp, exact_entreg_rsbp_primal\n",
    "from rsbp import calc_B, calc_f_rsbp, calc_g_rsbp\n",
    "from sinkhorn_rsbp import calc_U\n",
    "from sinkhorn_rsbp import robust_ibp_eps\n",
    "from utils import norm_inf\n",
    "\n",
    "import time"
   ]
  },
  {
   "cell_type": "code",
   "execution_count": 2,
   "metadata": {},
   "outputs": [],
   "source": [
    "# Dimension\n",
    "n = 10\n",
    "m = 2\n",
    "\n",
    "# Regularization\n",
    "tau = np.float64(1.0)"
   ]
  },
  {
   "cell_type": "code",
   "execution_count": 3,
   "metadata": {},
   "outputs": [],
   "source": [
    "np.random.seed(3698)\n",
    "\n",
    "# Cost matrix\n",
    "C = np.random.uniform(low=0.01, high=0.1, size=(m, n, n)).astype(np.float64)\n",
    "# C = (C + C.T) / 2.0\n",
    "\n",
    "# Marginal vectors\n",
    "p = np.random.rand(m, n).astype(np.float64)\n",
    "p = p / p.sum(1, keepdims=True)\n",
    "\n",
    "# weight\n",
    "w = np.random.rand(m).astype(np.float64)\n",
    "w = w / w.sum()"
   ]
  },
  {
   "cell_type": "markdown",
   "metadata": {},
   "source": [
    "# Theory checking"
   ]
  },
  {
   "cell_type": "markdown",
   "metadata": {},
   "source": [
    "Original RSBP problem"
   ]
  },
  {
   "cell_type": "code",
   "execution_count": 4,
   "metadata": {},
   "outputs": [],
   "source": [
    "rsbp = RSBP(C, p, w, tau)"
   ]
  },
  {
   "cell_type": "markdown",
   "metadata": {},
   "source": [
    "Entropic regularized RSBP"
   ]
  },
  {
   "cell_type": "code",
   "execution_count": 5,
   "metadata": {},
   "outputs": [],
   "source": [
    "eps = 0.001\n",
    "\n",
    "# Entropic regularization parameter\n",
    "U = calc_U(rsbp, eps)\n",
    "eta = eps / U\n",
    "\n",
    "# Convert to Entropic Regularized UOT\n",
    "ersbp = EntropicRSBP(C, p, w, tau, eta)"
   ]
  },
  {
   "cell_type": "markdown",
   "metadata": {},
   "source": [
    "Optimal solution for original problem"
   ]
  },
  {
   "cell_type": "code",
   "execution_count": 6,
   "metadata": {},
   "outputs": [
    {
     "name": "stdout",
     "output_type": "stream",
     "text": [
      "Optimal: 0.019808113478932608\n"
     ]
    }
   ],
   "source": [
    "f_hat, X_hat = exact_rsbp(rsbp)\n",
    "\n",
    "print('Optimal:', calc_f_rsbp(rsbp, X_hat))"
   ]
  },
  {
   "cell_type": "markdown",
   "metadata": {},
   "source": [
    "Optimal solution for the dual"
   ]
  },
  {
   "cell_type": "code",
   "execution_count": 7,
   "metadata": {},
   "outputs": [
    {
     "name": "stdout",
     "output_type": "stream",
     "text": [
      "Optimal: 0.01961633861392187 0.019136928872490716\n"
     ]
    }
   ],
   "source": [
    "_, u_star, v_star = exact_entreg_rsbp(ersbp)\n",
    "X_star_dual = calc_B(ersbp, u_star, v_star)\n",
    "print('Optimal:', calc_f_rsbp(rsbp, X_star_dual), calc_g_rsbp(ersbp, X_star_dual))"
   ]
  },
  {
   "cell_type": "markdown",
   "metadata": {},
   "source": [
    "Optimal solution for the primal **without** the normalization constraint"
   ]
  },
  {
   "cell_type": "code",
   "execution_count": 8,
   "metadata": {},
   "outputs": [
    {
     "name": "stdout",
     "output_type": "stream",
     "text": [
      "[0.98038678 0.98038678]\n",
      "Optimal: 0.019613222270152334 0.01913836533633462\n"
     ]
    }
   ],
   "source": [
    "_, X_star_hat = exact_entreg_rsbp_primal(ersbp)\n",
    "print(X_star_hat.sum((1, 2)))\n",
    "print('Optimal:', calc_f_rsbp(rsbp, X_star_hat), calc_g_rsbp(ersbp, X_star_hat))"
   ]
  },
  {
   "cell_type": "markdown",
   "metadata": {},
   "source": [
    "Optimal solution for the primal **with** the normalization constraint"
   ]
  },
  {
   "cell_type": "code",
   "execution_count": 9,
   "metadata": {},
   "outputs": [
    {
     "name": "stdout",
     "output_type": "stream",
     "text": [
      "[1. 1.]\n",
      "Optimal: 0.019808113479000775 0.019326755752145312\n"
     ]
    }
   ],
   "source": [
    "_, X_star = exact_entreg_rsbp_primal(ersbp, with_norm_constraint=True)\n",
    "print(X_star.sum((1, 2)))\n",
    "print('Optimal:', calc_f_rsbp(rsbp, X_star), calc_g_rsbp(ersbp, X_star))"
   ]
  },
  {
   "cell_type": "markdown",
   "metadata": {},
   "source": [
    "$$\n",
    "    X^* = \\dfrac{\\bar{X^*}}{||\\bar{X^*}||_1}\n",
    "$$"
   ]
  },
  {
   "cell_type": "code",
   "execution_count": 10,
   "metadata": {},
   "outputs": [
    {
     "data": {
      "text/plain": [
       "3.9657523888056434e-07"
      ]
     },
     "execution_count": 10,
     "metadata": {},
     "output_type": "execute_result"
    }
   ],
   "source": [
    "norm_inf(X_star_hat / X_star_hat.sum((1, 2), keepdims=True)  - X_star)"
   ]
  },
  {
   "cell_type": "markdown",
   "metadata": {},
   "source": [
    "Solve with Sinkhorn iterations"
   ]
  },
  {
   "cell_type": "code",
   "execution_count": 11,
   "metadata": {},
   "outputs": [],
   "source": [
    "# print(f'Epsilon:', eps)\n",
    "# start = time.time()\n",
    "\n",
    "# # Sinkhorn\n",
    "# _, log = robust_ibp_eps(ersbp, f_hat, eps, \n",
    "#                         patience=1000, verbose=True)\n",
    "\n",
    "# print('Time elapsed:', time.time() - start)"
   ]
  },
  {
   "cell_type": "code",
   "execution_count": 12,
   "metadata": {},
   "outputs": [],
   "source": [
    "# plt.plot(log['f'][1:])\n",
    "# plt.axhline(f_optimal, color='red')\n",
    "# plt.show()"
   ]
  },
  {
   "cell_type": "code",
   "execution_count": 13,
   "metadata": {},
   "outputs": [],
   "source": [
    "# y = []\n",
    "\n",
    "# for uk, vk in zip(log['u'], log['v']):\n",
    "#     Xk = calc_B(ersot, uk, vk)\n",
    "#     # y.append(norm_inf(Xk - X_hat))\n",
    "#     y.append(calc_g_rsot(ersot, Xk))\n",
    "\n",
    "# plt.plot(y)"
   ]
  }
 ],
 "metadata": {
  "interpreter": {
   "hash": "edbfc91850c9a702c2e4fa4067708a4a71752464744eb5c3077daa3b368f3f52"
  },
  "kernelspec": {
   "display_name": "Python 3.9.7 64-bit ('ot': conda)",
   "language": "python",
   "name": "python3"
  },
  "language_info": {
   "codemirror_mode": {
    "name": "ipython",
    "version": 3
   },
   "file_extension": ".py",
   "mimetype": "text/x-python",
   "name": "python",
   "nbconvert_exporter": "python",
   "pygments_lexer": "ipython3",
   "version": "3.9.7"
  },
  "orig_nbformat": 4
 },
 "nbformat": 4,
 "nbformat_minor": 2
}

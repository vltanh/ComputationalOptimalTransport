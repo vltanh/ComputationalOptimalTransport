{
 "cells": [
  {
   "cell_type": "code",
   "execution_count": 1,
   "metadata": {},
   "outputs": [],
   "source": [
    "import numpy as np\n",
    "import matplotlib.pyplot as plt\n",
    "\n",
    "from src.rot.problem import ROT, EntropicROT\n",
    "from src.rot.sinkhorn import calc_U, calc_k_formula, robust_sinkhorn_eps\n",
    "from src.utils import norm_inf\n",
    "\n",
    "import time"
   ]
  },
  {
   "cell_type": "code",
   "execution_count": 2,
   "metadata": {},
   "outputs": [],
   "source": [
    "# Dimension\n",
    "n = 100\n",
    "\n",
    "# Regularization\n",
    "tau = np.float64(1.0)"
   ]
  },
  {
   "cell_type": "code",
   "execution_count": 3,
   "metadata": {},
   "outputs": [],
   "source": [
    "np.random.seed(3698)\n",
    "\n",
    "# Cost matrix\n",
    "C = np.random.uniform(1.0, 50.0, (n, n)).astype(np.float64)\n",
    "\n",
    "# Marginal vectors\n",
    "a = np.random.uniform(0.1, 1.0, n).astype(np.float64)\n",
    "b = np.random.uniform(0.1, 1.0, n).astype(np.float64)\n",
    "\n",
    "a = a / a.sum()\n",
    "b = b / b.sum()"
   ]
  },
  {
   "cell_type": "markdown",
   "metadata": {},
   "source": [
    "# Varying $\\epsilon$"
   ]
  },
  {
   "cell_type": "code",
   "execution_count": null,
   "metadata": {},
   "outputs": [],
   "source": [
    "# Original UOT problem\n",
    "rsot = RSOT(C, a, b, tau)\n",
    "\n",
    "# Optimal solution\n",
    "f_optimal, X_optimal = exact_rsot(rsot)\n",
    "\n",
    "print('Optimal:', f_optimal)"
   ]
  },
  {
   "cell_type": "code",
   "execution_count": null,
   "metadata": {},
   "outputs": [],
   "source": [
    "# Number of eps\n",
    "neps = 30\n",
    "\n",
    "# Epsilons\n",
    "eps_arr = np.logspace(start=-1, stop=-5, num=neps).astype(np.float64)\n",
    "\n",
    "kfs, kcs = np.zeros((2, neps))\n",
    "\n",
    "for i, eps in enumerate(eps_arr):\n",
    "    print(f'Epsilon {i}:', eps)\n",
    "    start = time.time()\n",
    "\n",
    "    # Entropic regularization parameter\n",
    "    U = calc_U(rsot, eps)\n",
    "    eta = eps / U\n",
    "\n",
    "    # Convert to Entropic Regularized UOT\n",
    "    ersot = EntropicRSOT(C, a, b, tau, eta)\n",
    "\n",
    "    # Sinkhorn\n",
    "    _, log = robust_semisinkhorn_eps(ersot, f_optimal, eps, \n",
    "                                     patience=1000,\n",
    "                                     save_uv=False, verbose=True)\n",
    "    \n",
    "    plt.plot(log['f'][1:])\n",
    "    plt.axhline(f_optimal, color='red')\n",
    "    plt.show()\n",
    "\n",
    "    # Find k\n",
    "    kfs[i] = calc_k_formula(ersot, eps)\n",
    "    kcs[i] = len(log['f']) - 1000\n",
    "\n",
    "    print('Time elapsed:', time.time() - start)\n",
    "    print('=================')"
   ]
  },
  {
   "cell_type": "code",
   "execution_count": null,
   "metadata": {},
   "outputs": [],
   "source": [
    "fig, ax = plt.subplots(1, 2, figsize=(10, 5), dpi=150)\n",
    "\n",
    "ax[0].plot(np.log(1 / eps_arr), np.log(kcs), marker='.', label='$\\log k_c$')\n",
    "ax[0].plot(np.log(1 / eps_arr), np.log(kfs), marker='.', label='$\\log k_f$')\n",
    "ax[0].legend()\n",
    "\n",
    "ax[1].plot(np.log(1 / eps_arr), kfs / kcs, marker='.', label='$k_f$ / $k_c$')\n",
    "ax[1].legend()"
   ]
  },
  {
   "cell_type": "markdown",
   "metadata": {},
   "source": [
    "# Theory checking"
   ]
  },
  {
   "cell_type": "code",
   "execution_count": 4,
   "metadata": {},
   "outputs": [],
   "source": [
    "# Original UOT problem\n",
    "rot = ROT(C, a, b, tau)"
   ]
  },
  {
   "cell_type": "code",
   "execution_count": 5,
   "metadata": {},
   "outputs": [
    {
     "name": "stdout",
     "output_type": "stream",
     "text": [
      "Optimal: 1.673249265519985\n"
     ]
    }
   ],
   "source": [
    "# Optimal solution for ROT\n",
    "X_hat = rot.optimize_f('SCS')\n",
    "\n",
    "f_hat = rot.calc_f(X_hat)\n",
    "\n",
    "print('Optimal:', f_hat)"
   ]
  },
  {
   "cell_type": "code",
   "execution_count": 6,
   "metadata": {},
   "outputs": [],
   "source": [
    "# Entropic regularization parameter\n",
    "eta = np.float64(0.0)\n",
    "\n",
    "# Convert to Entropic Regularized ROT\n",
    "erot = rot.entropic_regularize(eta)"
   ]
  },
  {
   "cell_type": "code",
   "execution_count": 7,
   "metadata": {},
   "outputs": [
    {
     "name": "stdout",
     "output_type": "stream",
     "text": [
      "Optimal: 2.238064837665014 2.238064837665014\n"
     ]
    }
   ],
   "source": [
    "# Optimal solution for EntropicROT\n",
    "X_star = erot.optimize_g('SCS')\n",
    "\n",
    "f_star = erot.calc_f(X_star)\n",
    "g_star = erot.calc_g(X_star)\n",
    "\n",
    "print('Optimal:', f_star, g_star)"
   ]
  },
  {
   "cell_type": "code",
   "execution_count": 11,
   "metadata": {},
   "outputs": [
    {
     "name": "stdout",
     "output_type": "stream",
     "text": [
      "Optimal: nan nan\n"
     ]
    }
   ],
   "source": [
    "# Optimal solution for EntropicROT (dual)\n",
    "u_star, v_star = erot.optimize_h(solver='SCS')\n",
    "X_star_dual = erot.calc_B(u_star, v_star)\n",
    "\n",
    "f_star_dual = erot.calc_f(X_star_dual)\n",
    "g_star_dual = erot.calc_g(X_star_dual)\n",
    "h_star_dual = erot.calc_h(u_star, v_star)\n",
    "\n",
    "print('Optimal:', f_star_dual, g_star_dual)"
   ]
  },
  {
   "cell_type": "code",
   "execution_count": null,
   "metadata": {},
   "outputs": [],
   "source": [
    "eps = 0.001\n",
    "\n",
    "# Entropic regularization parameter\n",
    "U = calc_U(rsot, eps)\n",
    "eta = eps / U\n",
    "\n",
    "# Convert to Entropic Regularized UOT\n",
    "ersot = rsot.entropic_regularize(eta)\n",
    "\n",
    "start = time.time()\n",
    "\n",
    "# Sinkhorn\n",
    "_, log = robust_semisinkhorn_eps(ersot, f_star, eps, \n",
    "                                 save_uv=False,\n",
    "                                 patience=1000, verbose=True)\n",
    "\n",
    "print('Time elapsed:', time.time() - start)"
   ]
  },
  {
   "cell_type": "code",
   "execution_count": null,
   "metadata": {},
   "outputs": [],
   "source": [
    "plt.figure(figsize=(10, 5), dpi=150)\n",
    "plt.plot(log['f'][1:])\n",
    "plt.axhline(f_star, color='red')\n",
    "plt.axhline(f_hat, color='green')\n",
    "plt.show()"
   ]
  },
  {
   "cell_type": "code",
   "execution_count": null,
   "metadata": {},
   "outputs": [],
   "source": [
    "y = []\n",
    "\n",
    "for uk, vk in zip(log['u'], log['v']):\n",
    "    Xk = calc_B(ersot, uk, vk)\n",
    "    # y.append(norm_inf(Xk - X_hat))\n",
    "    y.append(calc_g_rsot(ersot, Xk))\n",
    "\n",
    "plt.plot(y)"
   ]
  }
 ],
 "metadata": {
  "interpreter": {
   "hash": "edbfc91850c9a702c2e4fa4067708a4a71752464744eb5c3077daa3b368f3f52"
  },
  "kernelspec": {
   "display_name": "Python 3.9.7 64-bit ('ot': conda)",
   "language": "python",
   "name": "python3"
  },
  "language_info": {
   "codemirror_mode": {
    "name": "ipython",
    "version": 3
   },
   "file_extension": ".py",
   "mimetype": "text/x-python",
   "name": "python",
   "nbconvert_exporter": "python",
   "pygments_lexer": "ipython3",
   "version": "3.9.7"
  },
  "orig_nbformat": 4
 },
 "nbformat": 4,
 "nbformat_minor": 2
}

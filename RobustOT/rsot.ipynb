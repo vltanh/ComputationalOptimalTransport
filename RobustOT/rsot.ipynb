{
 "cells": [
  {
   "cell_type": "code",
   "execution_count": 1,
   "metadata": {},
   "outputs": [],
   "source": [
    "import numpy as np\n",
    "import matplotlib.pyplot as plt\n",
    "\n",
    "from src.rsot.problem import RSOT, EntropicRSOT\n",
    "from src.rsot.sinkhorn import calc_U, calc_k_formula, robust_semisinkhorn_eps\n",
    "from src.utils import norm_inf\n",
    "\n",
    "import time"
   ]
  },
  {
   "cell_type": "code",
   "execution_count": 2,
   "metadata": {},
   "outputs": [],
   "source": [
    "# Dimension\n",
    "n = 100\n",
    "\n",
    "# Regularization\n",
    "tau = np.float64(1.0)"
   ]
  },
  {
   "cell_type": "code",
   "execution_count": 3,
   "metadata": {},
   "outputs": [],
   "source": [
    "np.random.seed(3698)\n",
    "\n",
    "# Cost matrix\n",
    "C = np.random.uniform(1.0, 50.0, (n, n)).astype(np.float64)\n",
    "\n",
    "# Marginal vectors\n",
    "a = np.random.uniform(0.1, 1.0, n).astype(np.float64)\n",
    "b = np.random.uniform(0.1, 1.0, n).astype(np.float64)\n",
    "\n",
    "a = a / a.sum()\n",
    "b = b / b.sum()"
   ]
  },
  {
   "cell_type": "markdown",
   "metadata": {},
   "source": [
    "# Varying $\\epsilon$"
   ]
  },
  {
   "cell_type": "code",
   "execution_count": null,
   "metadata": {},
   "outputs": [],
   "source": [
    "# Original UOT problem\n",
    "rsot = RSOT(C, a, b, tau)\n",
    "\n",
    "# Optimal solution\n",
    "f_optimal, X_optimal = exact_rsot(rsot)\n",
    "\n",
    "print('Optimal:', f_optimal)"
   ]
  },
  {
   "cell_type": "code",
   "execution_count": null,
   "metadata": {},
   "outputs": [],
   "source": [
    "# Number of eps\n",
    "neps = 30\n",
    "\n",
    "# Epsilons\n",
    "eps_arr = np.logspace(start=-1, stop=-5, num=neps).astype(np.float64)\n",
    "\n",
    "kfs, kcs = np.zeros((2, neps))\n",
    "\n",
    "for i, eps in enumerate(eps_arr):\n",
    "    print(f'Epsilon {i}:', eps)\n",
    "    start = time.time()\n",
    "\n",
    "    # Entropic regularization parameter\n",
    "    U = calc_U(rsot, eps)\n",
    "    eta = eps / U\n",
    "\n",
    "    # Convert to Entropic Regularized UOT\n",
    "    ersot = EntropicRSOT(C, a, b, tau, eta)\n",
    "\n",
    "    # Sinkhorn\n",
    "    _, log = robust_semisinkhorn_eps(ersot, f_optimal, eps, \n",
    "                                     patience=1000,\n",
    "                                     save_uv=False, verbose=True)\n",
    "    \n",
    "    plt.plot(log['f'][1:])\n",
    "    plt.axhline(f_optimal, color='red')\n",
    "    plt.show()\n",
    "\n",
    "    # Find k\n",
    "    kfs[i] = calc_k_formula(ersot, eps)\n",
    "    kcs[i] = len(log['f']) - 1000\n",
    "\n",
    "    print('Time elapsed:', time.time() - start)\n",
    "    print('=================')"
   ]
  },
  {
   "cell_type": "code",
   "execution_count": null,
   "metadata": {},
   "outputs": [],
   "source": [
    "fig, ax = plt.subplots(1, 2, figsize=(10, 5), dpi=150)\n",
    "\n",
    "ax[0].plot(np.log(1 / eps_arr), np.log(kcs), marker='.', label='$\\log k_c$')\n",
    "ax[0].plot(np.log(1 / eps_arr), np.log(kfs), marker='.', label='$\\log k_f$')\n",
    "ax[0].legend()\n",
    "\n",
    "ax[1].plot(np.log(1 / eps_arr), kfs / kcs, marker='.', label='$k_f$ / $k_c$')\n",
    "ax[1].legend()"
   ]
  },
  {
   "cell_type": "markdown",
   "metadata": {},
   "source": [
    "# Theory checking"
   ]
  },
  {
   "cell_type": "code",
   "execution_count": 4,
   "metadata": {},
   "outputs": [],
   "source": [
    "# Original UOT problem\n",
    "rsot = RSOT(C, a, b, tau)"
   ]
  },
  {
   "cell_type": "code",
   "execution_count": 5,
   "metadata": {},
   "outputs": [
    {
     "name": "stdout",
     "output_type": "stream",
     "text": [
      "Optimal: 1.7833128682547006\n"
     ]
    }
   ],
   "source": [
    "# Optimal solution for RSOT\n",
    "X_hat = rsot.optimize_f('SCS')\n",
    "\n",
    "f_hat = rsot.calc_f(X_hat)\n",
    "\n",
    "print('Optimal:', f_hat)"
   ]
  },
  {
   "cell_type": "code",
   "execution_count": 6,
   "metadata": {},
   "outputs": [],
   "source": [
    "# Entropic regularization parameter\n",
    "eta = np.float64(0.0)\n",
    "\n",
    "# Convert to Entropic Regularized UOT\n",
    "ersot = rsot.entropic_regularize(eta)"
   ]
  },
  {
   "cell_type": "code",
   "execution_count": 7,
   "metadata": {},
   "outputs": [
    {
     "name": "stdout",
     "output_type": "stream",
     "text": [
      "Optimal: 1.78502959959134 1.78502959959134\n"
     ]
    }
   ],
   "source": [
    "# Optimal solution for EntropicRSOT\n",
    "X_star = ersot.optimize_g('SCS')\n",
    "\n",
    "f_star = ersot.calc_f(X_star)\n",
    "g_star = ersot.calc_g(X_star)\n",
    "\n",
    "print('Optimal:', f_star, g_star)"
   ]
  },
  {
   "cell_type": "code",
   "execution_count": 8,
   "metadata": {},
   "outputs": [
    {
     "name": "stdout",
     "output_type": "stream",
     "text": [
      "WARN: A->p (column pointers) not strictly increasing, column 10100 empty\n",
      "WARN: A->p (column pointers) not strictly increasing, column 10101 empty\n",
      "WARN: A->p (column pointers) not strictly increasing, column 10102 empty\n",
      "WARN: A->p (column pointers) not strictly increasing, column 10103 empty\n",
      "WARN: A->p (column pointers) not strictly increasing, column 10104 empty\n",
      "WARN: A->p (column pointers) not strictly increasing, column 10105 empty\n",
      "WARN: A->p (column pointers) not strictly increasing, column 10106 empty\n",
      "WARN: A->p (column pointers) not strictly increasing, column 10107 empty\n",
      "WARN: A->p (column pointers) not strictly increasing, column 10108 empty\n",
      "WARN: A->p (column pointers) not strictly increasing, column 10109 empty\n",
      "WARN: A->p (column pointers) not strictly increasing, column 10110 empty\n",
      "WARN: A->p (column pointers) not strictly increasing, column 10111 empty\n",
      "WARN: A->p (column pointers) not strictly increasing, column 10112 empty\n",
      "WARN: A->p (column pointers) not strictly increasing, column 10113 empty\n",
      "WARN: A->p (column pointers) not strictly increasing, column 10114 empty\n",
      "WARN: A->p (column pointers) not strictly increasing, column 10115 empty\n",
      "WARN: A->p (column pointers) not strictly increasing, column 10116 empty\n",
      "WARN: A->p (column pointers) not strictly increasing, column 10117 empty\n",
      "WARN: A->p (column pointers) not strictly increasing, column 10118 empty\n",
      "WARN: A->p (column pointers) not strictly increasing, column 10119 empty\n",
      "WARN: A->p (column pointers) not strictly increasing, column 10120 empty\n",
      "WARN: A->p (column pointers) not strictly increasing, column 10121 empty\n",
      "WARN: A->p (column pointers) not strictly increasing, column 10122 empty\n",
      "WARN: A->p (column pointers) not strictly increasing, column 10123 empty\n",
      "WARN: A->p (column pointers) not strictly increasing, column 10124 empty\n",
      "WARN: A->p (column pointers) not strictly increasing, column 10125 empty\n",
      "WARN: A->p (column pointers) not strictly increasing, column 10126 empty\n",
      "WARN: A->p (column pointers) not strictly increasing, column 10127 empty\n",
      "WARN: A->p (column pointers) not strictly increasing, column 10128 empty\n",
      "WARN: A->p (column pointers) not strictly increasing, column 10129 empty\n",
      "WARN: A->p (column pointers) not strictly increasing, column 10130 empty\n",
      "WARN: A->p (column pointers) not strictly increasing, column 10131 empty\n",
      "WARN: A->p (column pointers) not strictly increasing, column 10132 empty\n",
      "WARN: A->p (column pointers) not strictly increasing, column 10133 empty\n",
      "WARN: A->p (column pointers) not strictly increasing, column 10134 empty\n",
      "WARN: A->p (column pointers) not strictly increasing, column 10135 empty\n",
      "WARN: A->p (column pointers) not strictly increasing, column 10136 empty\n",
      "WARN: A->p (column pointers) not strictly increasing, column 10137 empty\n",
      "WARN: A->p (column pointers) not strictly increasing, column 10138 empty\n",
      "WARN: A->p (column pointers) not strictly increasing, column 10139 empty\n",
      "WARN: A->p (column pointers) not strictly increasing, column 10140 empty\n",
      "WARN: A->p (column pointers) not strictly increasing, column 10141 empty\n",
      "WARN: A->p (column pointers) not strictly increasing, column 10142 empty\n",
      "WARN: A->p (column pointers) not strictly increasing, column 10143 empty\n",
      "WARN: A->p (column pointers) not strictly increasing, column 10144 empty\n",
      "WARN: A->p (column pointers) not strictly increasing, column 10145 empty\n",
      "WARN: A->p (column pointers) not strictly increasing, column 10146 empty\n",
      "WARN: A->p (column pointers) not strictly increasing, column 10147 empty\n",
      "WARN: A->p (column pointers) not strictly increasing, column 10148 empty\n",
      "WARN: A->p (column pointers) not strictly increasing, column 10149 empty\n",
      "WARN: A->p (column pointers) not strictly increasing, column 10150 empty\n",
      "WARN: A->p (column pointers) not strictly increasing, column 10151 empty\n",
      "WARN: A->p (column pointers) not strictly increasing, column 10152 empty\n",
      "WARN: A->p (column pointers) not strictly increasing, column 10153 empty\n",
      "WARN: A->p (column pointers) not strictly increasing, column 10154 empty\n",
      "WARN: A->p (column pointers) not strictly increasing, column 10155 empty\n",
      "WARN: A->p (column pointers) not strictly increasing, column 10156 empty\n",
      "WARN: A->p (column pointers) not strictly increasing, column 10157 empty\n",
      "WARN: A->p (column pointers) not strictly increasing, column 10158 empty\n",
      "WARN: A->p (column pointers) not strictly increasing, column 10159 empty\n",
      "WARN: A->p (column pointers) not strictly increasing, column 10160 empty\n",
      "WARN: A->p (column pointers) not strictly increasing, column 10161 empty\n",
      "WARN: A->p (column pointers) not strictly increasing, column 10162 empty\n",
      "WARN: A->p (column pointers) not strictly increasing, column 10163 empty\n",
      "WARN: A->p (column pointers) not strictly increasing, column 10164 empty\n",
      "WARN: A->p (column pointers) not strictly increasing, column 10165 empty\n",
      "WARN: A->p (column pointers) not strictly increasing, column 10166 empty\n",
      "WARN: A->p (column pointers) not strictly increasing, column 10167 empty\n",
      "WARN: A->p (column pointers) not strictly increasing, column 10168 empty\n",
      "WARN: A->p (column pointers) not strictly increasing, column 10169 empty\n",
      "WARN: A->p (column pointers) not strictly increasing, column 10170 empty\n",
      "WARN: A->p (column pointers) not strictly increasing, column 10171 empty\n",
      "WARN: A->p (column pointers) not strictly increasing, column 10172 empty\n",
      "WARN: A->p (column pointers) not strictly increasing, column 10173 empty\n",
      "WARN: A->p (column pointers) not strictly increasing, column 10174 empty\n",
      "WARN: A->p (column pointers) not strictly increasing, column 10175 empty\n",
      "WARN: A->p (column pointers) not strictly increasing, column 10176 empty\n",
      "WARN: A->p (column pointers) not strictly increasing, column 10177 empty\n",
      "WARN: A->p (column pointers) not strictly increasing, column 10178 empty\n",
      "WARN: A->p (column pointers) not strictly increasing, column 10179 empty\n",
      "WARN: A->p (column pointers) not strictly increasing, column 10180 empty\n",
      "WARN: A->p (column pointers) not strictly increasing, column 10181 empty\n",
      "WARN: A->p (column pointers) not strictly increasing, column 10182 empty\n",
      "WARN: A->p (column pointers) not strictly increasing, column 10183 empty\n",
      "WARN: A->p (column pointers) not strictly increasing, column 10184 empty\n",
      "WARN: A->p (column pointers) not strictly increasing, column 10185 empty\n",
      "WARN: A->p (column pointers) not strictly increasing, column 10186 empty\n",
      "WARN: A->p (column pointers) not strictly increasing, column 10187 empty\n",
      "WARN: A->p (column pointers) not strictly increasing, column 10188 empty\n",
      "WARN: A->p (column pointers) not strictly increasing, column 10189 empty\n",
      "WARN: A->p (column pointers) not strictly increasing, column 10190 empty\n",
      "WARN: A->p (column pointers) not strictly increasing, column 10191 empty\n",
      "WARN: A->p (column pointers) not strictly increasing, column 10192 empty\n",
      "WARN: A->p (column pointers) not strictly increasing, column 10193 empty\n",
      "WARN: A->p (column pointers) not strictly increasing, column 10194 empty\n",
      "WARN: A->p (column pointers) not strictly increasing, column 10195 empty\n",
      "WARN: A->p (column pointers) not strictly increasing, column 10196 empty\n",
      "WARN: A->p (column pointers) not strictly increasing, column 10197 empty\n",
      "WARN: A->p (column pointers) not strictly increasing, column 10198 empty\n",
      "WARN: A->p (column pointers) not strictly increasing, column 10199 empty\n",
      "WARNING - large complementary slackness residual: 0.000083\n"
     ]
    },
    {
     "ename": "TypeError",
     "evalue": "'NoneType' object is not subscriptable",
     "output_type": "error",
     "traceback": [
      "\u001b[0;31m---------------------------------------------------------------------------\u001b[0m",
      "\u001b[0;31mTypeError\u001b[0m                                 Traceback (most recent call last)",
      "\u001b[0;32m/tmp/ipykernel_50085/3353260750.py\u001b[0m in \u001b[0;36m<module>\u001b[0;34m\u001b[0m\n\u001b[1;32m      1\u001b[0m \u001b[0;31m# Optimal solution for EntropicRSOT (dual)\u001b[0m\u001b[0;34m\u001b[0m\u001b[0;34m\u001b[0m\u001b[0m\n\u001b[1;32m      2\u001b[0m \u001b[0mu_star\u001b[0m\u001b[0;34m,\u001b[0m \u001b[0mv_star\u001b[0m \u001b[0;34m=\u001b[0m \u001b[0mersot\u001b[0m\u001b[0;34m.\u001b[0m\u001b[0moptimize_h\u001b[0m\u001b[0;34m(\u001b[0m\u001b[0msolver\u001b[0m\u001b[0;34m=\u001b[0m\u001b[0;34m'SCS'\u001b[0m\u001b[0;34m)\u001b[0m\u001b[0;34m\u001b[0m\u001b[0;34m\u001b[0m\u001b[0m\n\u001b[0;32m----> 3\u001b[0;31m \u001b[0mX_star_dual\u001b[0m \u001b[0;34m=\u001b[0m \u001b[0mersot\u001b[0m\u001b[0;34m.\u001b[0m\u001b[0mcalc_B\u001b[0m\u001b[0;34m(\u001b[0m\u001b[0mu_star\u001b[0m\u001b[0;34m,\u001b[0m \u001b[0mv_star\u001b[0m\u001b[0;34m)\u001b[0m\u001b[0;34m\u001b[0m\u001b[0;34m\u001b[0m\u001b[0m\n\u001b[0m\u001b[1;32m      4\u001b[0m \u001b[0;34m\u001b[0m\u001b[0m\n\u001b[1;32m      5\u001b[0m \u001b[0mf_star_dual\u001b[0m \u001b[0;34m=\u001b[0m \u001b[0mersot\u001b[0m\u001b[0;34m.\u001b[0m\u001b[0mcalc_f\u001b[0m\u001b[0;34m(\u001b[0m\u001b[0mX_star_dual\u001b[0m\u001b[0;34m)\u001b[0m\u001b[0;34m\u001b[0m\u001b[0;34m\u001b[0m\u001b[0m\n",
      "\u001b[0;32m~/Documents/ComputationalOptimalTransport/RobustOT/src/rsot/problem.py\u001b[0m in \u001b[0;36mcalc_B\u001b[0;34m(self, u, v)\u001b[0m\n\u001b[1;32m     64\u001b[0m                \u001b[0mu\u001b[0m\u001b[0;34m:\u001b[0m \u001b[0mnp\u001b[0m\u001b[0;34m.\u001b[0m\u001b[0mndarray\u001b[0m\u001b[0;34m,\u001b[0m\u001b[0;34m\u001b[0m\u001b[0;34m\u001b[0m\u001b[0m\n\u001b[1;32m     65\u001b[0m                v: np.ndarray) -> np.ndarray:\n\u001b[0;32m---> 66\u001b[0;31m         \u001b[0;32mreturn\u001b[0m \u001b[0mnp\u001b[0m\u001b[0;34m.\u001b[0m\u001b[0mexp\u001b[0m\u001b[0;34m(\u001b[0m\u001b[0mself\u001b[0m\u001b[0;34m.\u001b[0m\u001b[0mcalc_logB\u001b[0m\u001b[0;34m(\u001b[0m\u001b[0mu\u001b[0m\u001b[0;34m,\u001b[0m \u001b[0mv\u001b[0m\u001b[0;34m)\u001b[0m\u001b[0;34m)\u001b[0m\u001b[0;34m\u001b[0m\u001b[0;34m\u001b[0m\u001b[0m\n\u001b[0m\u001b[1;32m     67\u001b[0m \u001b[0;34m\u001b[0m\u001b[0m\n\u001b[1;32m     68\u001b[0m     def calc_logB(self,\n",
      "\u001b[0;32m~/Documents/ComputationalOptimalTransport/RobustOT/src/rsot/problem.py\u001b[0m in \u001b[0;36mcalc_logB\u001b[0;34m(self, u, v)\u001b[0m\n\u001b[1;32m     69\u001b[0m                   \u001b[0mu\u001b[0m\u001b[0;34m:\u001b[0m \u001b[0mnp\u001b[0m\u001b[0;34m.\u001b[0m\u001b[0mndarray\u001b[0m\u001b[0;34m,\u001b[0m\u001b[0;34m\u001b[0m\u001b[0;34m\u001b[0m\u001b[0m\n\u001b[1;32m     70\u001b[0m                   v: np.ndarray) -> np.ndarray:\n\u001b[0;32m---> 71\u001b[0;31m         \u001b[0;32mreturn\u001b[0m \u001b[0;34m(\u001b[0m\u001b[0mu\u001b[0m\u001b[0;34m[\u001b[0m\u001b[0;34m:\u001b[0m\u001b[0;34m,\u001b[0m \u001b[0mnp\u001b[0m\u001b[0;34m.\u001b[0m\u001b[0mnewaxis\u001b[0m\u001b[0;34m]\u001b[0m \u001b[0;34m+\u001b[0m \u001b[0mv\u001b[0m\u001b[0;34m[\u001b[0m\u001b[0mnp\u001b[0m\u001b[0;34m.\u001b[0m\u001b[0mnewaxis\u001b[0m\u001b[0;34m,\u001b[0m \u001b[0;34m:\u001b[0m\u001b[0;34m]\u001b[0m \u001b[0;34m-\u001b[0m \u001b[0mself\u001b[0m\u001b[0;34m.\u001b[0m\u001b[0mC\u001b[0m\u001b[0;34m)\u001b[0m \u001b[0;34m/\u001b[0m \u001b[0mself\u001b[0m\u001b[0;34m.\u001b[0m\u001b[0meta\u001b[0m\u001b[0;34m\u001b[0m\u001b[0;34m\u001b[0m\u001b[0m\n\u001b[0m\u001b[1;32m     72\u001b[0m \u001b[0;34m\u001b[0m\u001b[0m\n\u001b[1;32m     73\u001b[0m     def calc_g(self,\n",
      "\u001b[0;31mTypeError\u001b[0m: 'NoneType' object is not subscriptable"
     ]
    }
   ],
   "source": [
    "# Optimal solution for EntropicRSOT (dual)\n",
    "u_star, v_star = ersot.optimize_h(solver='SCS')\n",
    "X_star_dual = ersot.calc_B(u_star, v_star)\n",
    "\n",
    "f_star_dual = ersot.calc_f(X_star_dual)\n",
    "g_star_dual = ersot.calc_g(X_star_dual)\n",
    "h_star_dual = ersot.calc_h(u_star, v_star)\n",
    "\n",
    "print('Optimal:', f_star_dual, g_star_dual)"
   ]
  },
  {
   "cell_type": "code",
   "execution_count": null,
   "metadata": {},
   "outputs": [],
   "source": [
    "eps = 0.001\n",
    "\n",
    "# Entropic regularization parameter\n",
    "U = calc_U(rsot, eps)\n",
    "eta = eps / U\n",
    "\n",
    "# Convert to Entropic Regularized UOT\n",
    "ersot = rsot.entropic_regularize(eta)\n",
    "\n",
    "start = time.time()\n",
    "\n",
    "# Sinkhorn\n",
    "_, log = robust_semisinkhorn_eps(ersot, f_star, eps, \n",
    "                                 save_uv=False,\n",
    "                                 patience=1000, verbose=True)\n",
    "\n",
    "print('Time elapsed:', time.time() - start)"
   ]
  },
  {
   "cell_type": "code",
   "execution_count": null,
   "metadata": {},
   "outputs": [],
   "source": [
    "plt.figure(figsize=(10, 5), dpi=150)\n",
    "plt.plot(log['f'][1:])\n",
    "plt.axhline(f_star, color='red')\n",
    "plt.axhline(f_hat, color='green')\n",
    "plt.show()"
   ]
  },
  {
   "cell_type": "code",
   "execution_count": null,
   "metadata": {},
   "outputs": [],
   "source": [
    "y = []\n",
    "\n",
    "for uk, vk in zip(log['u'], log['v']):\n",
    "    Xk = calc_B(ersot, uk, vk)\n",
    "    # y.append(norm_inf(Xk - X_hat))\n",
    "    y.append(calc_g_rsot(ersot, Xk))\n",
    "\n",
    "plt.plot(y)"
   ]
  }
 ],
 "metadata": {
  "interpreter": {
   "hash": "edbfc91850c9a702c2e4fa4067708a4a71752464744eb5c3077daa3b368f3f52"
  },
  "kernelspec": {
   "display_name": "Python 3.9.7 64-bit ('ot': conda)",
   "language": "python",
   "name": "python3"
  },
  "language_info": {
   "codemirror_mode": {
    "name": "ipython",
    "version": 3
   },
   "file_extension": ".py",
   "mimetype": "text/x-python",
   "name": "python",
   "nbconvert_exporter": "python",
   "pygments_lexer": "ipython3",
   "version": "3.9.7"
  },
  "orig_nbformat": 4
 },
 "nbformat": 4,
 "nbformat_minor": 2
}
